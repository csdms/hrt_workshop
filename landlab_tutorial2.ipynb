{
 "cells": [
  {
   "cell_type": "markdown",
   "id": "ab8e9d20",
   "metadata": {},
   "source": [
    "# ASU HRT Workshop - Landlab Use Case Part 2"
   ]
  },
  {
   "cell_type": "markdown",
   "id": "eec6d4e9",
   "metadata": {},
   "source": [
    "## Introduction\n",
    "\n",
    "Overland flow, particularly the infiltration-excess mechanism, is affected by the nature of water input through precipitation. This Jupyter notebook demonstrates how to use high resolution topography data and Landlab model components to delineate a watershed and simulate overland flow for a study area in Boulder County. \n",
    "\n",
    "This notebook includes the following sections:\n",
    "- [Initial Setup](#setup)\n",
    "  \n",
    "  Install Python packages and create the output folder.\n",
    "  <br>\n",
    "- [Step 1: OpenTopography Data](#step1) \n",
    "\n",
    "  Load the topography datasets with 30m resolution and 1m resolution for the study area.\n",
    "  <br>\n",
    "- [Step 2: Delineate Watershed](#step2)\n",
    "\n",
    "  Use the topography dataset (1m resolution) and Landlab components to delineate the watershed for the study area. \n",
    "  <br>\n",
    "- [Step 3: Calculate Overland Flow](#step3)\n",
    "\n",
    "  Use the watershed topography data and Landlab overlandflow component to simulate the surface water depth and discharge.\n",
    "  <br>\n",
    "- [Step 4: Visualize Results](#step4)\n",
    "\n",
    "  Visualize the final results as a short video.\n"
   ]
  },
  {
   "cell_type": "markdown",
   "id": "ca52c800",
   "metadata": {},
   "source": [
    "<a id='setup'></a>\n",
    "## Initial Setup"
   ]
  },
  {
   "cell_type": "markdown",
   "id": "29ab4df8",
   "metadata": {},
   "source": [
    "### Install Packages (on Local PC)\n",
    "If you want to run this notebook on your PC, you can run the following command which will create a separate conda environment named \"overland_flow\" and install all the required packages for you. After the installation, please make sure to activate the environment to run this notebook."
   ]
  },
  {
   "cell_type": "code",
   "execution_count": null,
   "id": "8bffe18b",
   "metadata": {},
   "outputs": [],
   "source": [
    "# ! conda env create --file=environment.yml"
   ]
  },
  {
   "cell_type": "markdown",
   "id": "6f582231",
   "metadata": {},
   "source": [
    "### Create Folder\n",
    "We will first import all the python packages and create a result folder for this notebook."
   ]
  },
  {
   "cell_type": "code",
   "execution_count": null,
   "id": "6b4ac8ee",
   "metadata": {},
   "outputs": [],
   "source": [
    "import os\n",
    "import warnings\n",
    "from pathlib import Path\n",
    "\n",
    "import numpy as np\n",
    "import imageio.v2 as imageio\n",
    "import matplotlib.pyplot as plt\n",
    "from IPython.display import Video\n",
    "from tqdm import trange\n",
    "\n",
    "from bmi_geotiff import GeoTiff\n",
    "from bmi_topography import Topography\n",
    "from landlab import RasterModelGrid, imshow_grid\n",
    "from landlab.components import FlowAccumulator, ChannelProfiler, OverlandFlow\n",
    "from landlab.utils import get_watershed_mask\n",
    "\n",
    "warnings.simplefilter(action=\"ignore\", category=FutureWarning)"
   ]
  },
  {
   "cell_type": "code",
   "execution_count": null,
   "id": "9d8a890a",
   "metadata": {},
   "outputs": [],
   "source": [
    "results_dir = Path.cwd() / \"results_betasso\"\n",
    "results_dir.mkdir(exist_ok=True)\n",
    "\n",
    "print(results_dir)"
   ]
  },
  {
   "cell_type": "markdown",
   "id": "9a395cd3",
   "metadata": {},
   "source": [
    "<a id='step1'></a>\n",
    "## Step 1 OpenTopography Data"
   ]
  },
  {
   "cell_type": "markdown",
   "id": "005183ce",
   "metadata": {},
   "source": [
    "### Study Area\n",
    "Betasso is situated in lower Boulder Canyon, just 6 miles west of the City of Boulder. This area is a mix of steep forested slopes with several intermittent streams, and sloping meadows, sub-summits, and rock outcrops. The south facing slopes are primarily warmer with Ponderosa Pine stands. The cooler north-facing slopes are a Ponderosa Pine-Douglas fir mix. The Boulder Filtration Plant is located just outside the Betasso Preserve. For more details please check [here](https://czo-archive.criticalzone.org/boulder/infrastructure/field-area/betasso/).\n",
    "\n",
    "<img src=\"https://czo-archive.criticalzone.org/images/made/images/national/photos-and-images/Boulder/Betasso/IMGP1431_640_480_80auto.jpg\" width=\"800\">"
   ]
  },
  {
   "cell_type": "markdown",
   "id": "2089ea7a",
   "metadata": {},
   "source": [
    "### 30m DEM\n",
    "\n",
    "We will first use the CSDMS [Topography data component](https://csdms.colorado.edu/wiki/Model:Topography_Data_Component) to download the 30m DEM for the study area from [OpenTopography](https://opentopography.org/developers) and get its metadata and data values. \n",
    "\n",
    "This subsection demonstrates how to use the CSDMS data component to access the global topography data from OpenTopography. In the next subsection, we will load the 1m topography dataset for watershed delineation. "
   ]
  },
  {
   "cell_type": "code",
   "execution_count": null,
   "id": "8aa26cc2",
   "metadata": {},
   "outputs": [],
   "source": [
    "dem_30m = Topography(\n",
    "    dem_type=\"SRTMGL1\",\n",
    "    south=40.0073,\n",
    "    north=40.0169,\n",
    "    west=-105.3445,\n",
    "    east=-105.3327,\n",
    "    output_format=\"GTiff\",\n",
    "    cache_dir=results_dir,\n",
    ")\n",
    "dem_30m.load()"
   ]
  },
  {
   "cell_type": "markdown",
   "id": "a32fe24f",
   "metadata": {},
   "source": [
    "**``HTTPError``? Click details for the solution.**\n",
    "\n",
    "<details>\n",
    "\n",
    "If you get ``HTTPError: 401 Client Error``, you will need to create an API key file to download the dataset. Please make sure you first request an [Open Topography API Key](https://opentopography.org/blog/introducing-api-keys-access-opentopography-global-datasets). \n",
    "    \n",
    "Then copy and paste the following code in a new cell and run it. The install_api_key( ) function will ask for your Open Topography API Key to create the API key file for you. Please make sure you provide the correct API Key information. \n",
    "\n",
    "```python\n",
    "from utils import install_api_key\n",
    "install_api_key()\n",
    "```\n",
    "</details>"
   ]
  },
  {
   "cell_type": "code",
   "execution_count": null,
   "id": "d45cda64",
   "metadata": {},
   "outputs": [],
   "source": [
    "dem_30m.da"
   ]
  },
  {
   "cell_type": "code",
   "execution_count": null,
   "id": "fab50e8e",
   "metadata": {},
   "outputs": [],
   "source": [
    "# plot DEM data\n",
    "plt.imshow(dem_30m.da.values.squeeze())\n",
    "\n",
    "plt.title(\"Topography Data (30m resolution)\")\n",
    "plt.xlabel(\"X (grid index)\")\n",
    "plt.ylabel(\"Y (grid index)\")\n",
    "plt.ticklabel_format(useOffset=False)\n",
    "plt.colorbar(label=\"Elevation (m)\")"
   ]
  },
  {
   "cell_type": "markdown",
   "id": "d17dd1a7",
   "metadata": {},
   "source": [
    "### 1m DEM"
   ]
  },
  {
   "cell_type": "markdown",
   "id": "28f5adff",
   "metadata": {},
   "source": [
    "For watershed delineation, we will use the 1m topography dataset as the input. This dataset is a subset from the data product of [Boulder Creek Critical Zone Observatory August 2010 LiDAR Survey](https://portal.opentopography.org/datasetMetadata?otCollectionID=OT.032012.26913.1). We have already downloaded this dataset and will use the [GeoTiff data component](https://csdms.colorado.edu/wiki/Model:GeoTiff_Data_Component) to load the dataset. "
   ]
  },
  {
   "cell_type": "code",
   "execution_count": null,
   "id": "7da7f1c6",
   "metadata": {},
   "outputs": [],
   "source": [
    "# Load topography data\n",
    "dem_1m = GeoTiff(\"betasso_1m.tif\")"
   ]
  },
  {
   "cell_type": "code",
   "execution_count": null,
   "id": "bf44aec7",
   "metadata": {},
   "outputs": [],
   "source": [
    "dem_1m.da"
   ]
  },
  {
   "cell_type": "code",
   "execution_count": null,
   "id": "ead0f4e7",
   "metadata": {},
   "outputs": [],
   "source": [
    "# plot DEM data\n",
    "plt.imshow(dem_1m.da)\n",
    "plt.title(\"Topography Data (1m resolution)\")\n",
    "plt.xlabel(\"X (m)\")\n",
    "plt.ylabel(\"Y (m)\")\n",
    "plt.colorbar(label=\"elevation(m)\")"
   ]
  },
  {
   "cell_type": "markdown",
   "id": "8b6db88a",
   "metadata": {},
   "source": [
    "<a id='step2'></a>\n",
    "## Step 2 Delineate Watershed"
   ]
  },
  {
   "cell_type": "markdown",
   "id": "48612588",
   "metadata": {},
   "source": [
    "We will use the 1m topography dataset for watershed delineation. The Landlab components ([FlowAccumulator](https://landlab.readthedocs.io/en/master/reference/components/flow_accum.html) and [ChannelProfiler](https://landlab.readthedocs.io/en/master/reference/components/channel_profiler.html)) and the Landlab utility ([get_watershed_mask](https://landlab.readthedocs.io/en/master/reference/utils/watershed.html)) will be used to accomplish this task. \n",
    "\n",
    "The general steps for watershed delineation include: \n",
    "- Setup raster model grid and add topographic elevation data field\n",
    "- Calculate the flow accumulation\n",
    "- Get watershed mask\n",
    "- Set watershed boundary "
   ]
  },
  {
   "cell_type": "code",
   "execution_count": null,
   "id": "9025c6cf",
   "metadata": {},
   "outputs": [],
   "source": [
    "# set the grid resolution (m)\n",
    "grid_resolution = 1.0\n",
    "\n",
    "# set up raster model grid\n",
    "model_grid = RasterModelGrid(dem_1m.da.shape, xy_spacing=grid_resolution)\n",
    "\n",
    "# add topographic elevation data field\n",
    "model_grid.add_field(\"topographic__elevation\", dem_1m.da.astype(\"float\"))\n",
    "\n",
    "# plot the topographic elevation data field\n",
    "plt.figure(figsize=(10, 5))\n",
    "imshow_grid(\n",
    "    model_grid,\n",
    "    \"topographic__elevation\",\n",
    "    plot_name=\"Data field of topographic elevation\",\n",
    "    var_name=\"Elevation (m)\",\n",
    ")\n",
    "plt.xlabel(\"X (m)\")\n",
    "plt.ylabel(\"Y (m)\")\n",
    "plt.gca().invert_yaxis()"
   ]
  },
  {
   "cell_type": "code",
   "execution_count": null,
   "id": "0753fa37",
   "metadata": {},
   "outputs": [],
   "source": [
    "# calculate the flow accumulation\n",
    "fa = FlowAccumulator(\n",
    "    model_grid,\n",
    "    method=\"Steepest\",\n",
    "    flow_director=\"FlowDirectorSteepest\",\n",
    "    depression_finder=\"LakeMapperBarnes\",\n",
    "    redirect_flow_steepest_descent=True,\n",
    "    reaccumulate_flow=True,\n",
    ")\n",
    "fa.run_one_step()"
   ]
  },
  {
   "cell_type": "code",
   "execution_count": null,
   "id": "15c55e68",
   "metadata": {},
   "outputs": [],
   "source": [
    "# plot the flow accumulation result\n",
    "plt.figure(figsize=(10, 5))\n",
    "imshow_grid(\n",
    "    model_grid,\n",
    "    np.sqrt(model_grid.at_node[\"drainage_area\"]),\n",
    "    plot_name=\"Data field of drainage area\",\n",
    "    var_name=\"square root of drainage area\",\n",
    ")\n",
    "plt.xlabel(\"X (m)\")\n",
    "plt.ylabel(\"Y (m)\")\n",
    "plt.gca().invert_yaxis()"
   ]
  },
  {
   "cell_type": "code",
   "execution_count": null,
   "id": "9b3c330c",
   "metadata": {},
   "outputs": [],
   "source": [
    "# set up channel profiler\n",
    "profiler = ChannelProfiler(model_grid, number_of_watersheds=1)\n",
    "profiler.run_one_step()"
   ]
  },
  {
   "cell_type": "code",
   "execution_count": null,
   "id": "a16f12b8",
   "metadata": {},
   "outputs": [],
   "source": [
    "# get watershed mask\n",
    "outlet = profiler.nodes[0][0]\n",
    "watershed_mask = get_watershed_mask(model_grid, outlet)"
   ]
  },
  {
   "cell_type": "code",
   "execution_count": null,
   "id": "b639cd15",
   "metadata": {},
   "outputs": [],
   "source": [
    "# set watershed boundary\n",
    "model_grid.at_node[\"topographic__elevation\"][~watershed_mask] = -9999.0\n",
    "model_grid.status_at_node[~watershed_mask] = model_grid.BC_NODE_IS_CLOSED\n",
    "model_grid.status_at_node[outlet] = model_grid.BC_NODE_IS_FIXED_VALUE"
   ]
  },
  {
   "cell_type": "code",
   "execution_count": null,
   "id": "8fdd266b",
   "metadata": {},
   "outputs": [],
   "source": [
    "# plot the watershed\n",
    "plt.figure(figsize=(10, 5))\n",
    "\n",
    "imshow_grid(\n",
    "    model_grid,\n",
    "    \"topographic__elevation\",\n",
    "    plot_name=\"Topographic elevation of Betasso watershed\",\n",
    "    colorbar_label=\"Elevation (m)\",\n",
    ")\n",
    "plt.xlabel(\"X (m)\")\n",
    "plt.ylabel(\"Y (m)\")\n",
    "plt.gca().invert_yaxis()"
   ]
  },
  {
   "cell_type": "markdown",
   "id": "cbe2f469",
   "metadata": {},
   "source": [
    "<a id='step3'></a>\n",
    "## Step 3  Calculate Overland Flow"
   ]
  },
  {
   "cell_type": "markdown",
   "id": "8d67cf94",
   "metadata": {},
   "source": [
    "In this step, the watershed topography dataset and the Landlab [Overland Flow component](https://landlab.readthedocs.io/en/master/user_guide/overland_flow_user_guide.html#background-on-overlandflow-component) will be used for the simulation. The model run time is set as 5 min with the first 2 min assigned with a constant rainfall intensity (100 mm/hr). This rain intensity value is based on the observational data from an overland flow event that happened in Betasso watershed on Aug 30th, 2016. The simulation results will create a discharge time series plot at the outlet and a 2D plot of the surface water depth at each 60 sec time step.\n",
    "\n",
    "In this simulation, we suppose there is no water infiltration process involved. Is this justified? Not really, this is a model simplification for demonstration purposes. So this assumption provides an end-member case of extreme soil water repellency in the watershed."
   ]
  },
  {
   "cell_type": "code",
   "execution_count": null,
   "id": "5f708f93",
   "metadata": {},
   "outputs": [],
   "source": [
    "# add surface wave depth data field\n",
    "# set initial surface water depth value\n",
    "model_grid.add_full(\"surface_water__depth\", 1e-12, at=\"node\", clobber=True)\n",
    "\n",
    "plt.figure(figsize=(10, 5))\n",
    "imshow_grid(\n",
    "    model_grid,\n",
    "    \"surface_water__depth\",\n",
    "    plot_name=\"Data field of surface water depth\",\n",
    "    var_name=\"water depth (m)\",\n",
    "    cmap=\"Blues\",\n",
    "    vmin=0.0,\n",
    "    vmax=1,\n",
    ")\n",
    "plt.xlabel(\"X (m)\")\n",
    "plt.ylabel(\"Y (m)\")\n",
    "plt.gca().invert_yaxis()"
   ]
  },
  {
   "cell_type": "code",
   "execution_count": null,
   "id": "f28c0e9d",
   "metadata": {},
   "outputs": [],
   "source": [
    "# instantiate overland flow component\n",
    "overland_flow = OverlandFlow(model_grid, steep_slopes=True)\n",
    "\n",
    "# set model run parameters\n",
    "elapsed_time = 0.0\n",
    "model_run_time = 5 * 60  # duration of run (s)\n",
    "storm_duration = 2 * 60  # duration of rain (s)\n",
    "time_step = 60\n",
    "rainfall_intensity = 100 / (1000 * 3600)  # mm/hr to m/s\n",
    "\n",
    "outlet_discharge = []\n",
    "outlet_times = []\n",
    "\n",
    "# run overland flow simulation\n",
    "for time_slice in trange(time_step, model_run_time + time_step, time_step):\n",
    "\n",
    "    while elapsed_time < time_slice:\n",
    "\n",
    "        # get adaptive time step\n",
    "        overland_flow.dt = min(overland_flow.calc_time_step(), time_slice)\n",
    "\n",
    "        # set rainfall intensity\n",
    "        if elapsed_time < (storm_duration):\n",
    "            overland_flow.rainfall_intensity = rainfall_intensity\n",
    "        else:\n",
    "            overland_flow.rainfall_intensity = 0.0\n",
    "\n",
    "        # run model\n",
    "        overland_flow.overland_flow(dt=overland_flow.dt)\n",
    "\n",
    "        # update elapsed time\n",
    "        elapsed_time += overland_flow.dt\n",
    "\n",
    "        # get discharge result\n",
    "        discharge = overland_flow.discharge_mapper(\n",
    "            model_grid.at_link[\"surface_water__discharge\"], convert_to_volume=True\n",
    "        )\n",
    "\n",
    "        outlet_discharge.append(discharge[outlet])\n",
    "        outlet_times.append(elapsed_time)\n",
    "\n",
    "    # plot result\n",
    "    fig, ax = plt.subplots(\n",
    "        2, 1, figsize=(8, 9), gridspec_kw={\"height_ratios\": [1, 1.5]}\n",
    "    )\n",
    "    fig.suptitle(\"Results at {} min\".format(time_slice / 60))\n",
    "\n",
    "    ax[0].plot(outlet_times, outlet_discharge, \"-\")\n",
    "    ax[0].set_xlabel(\"Time elapsed (s)\")\n",
    "    ax[0].set_ylabel(\"discharge (cms)\")\n",
    "    ax[0].set_title(\"Water discharge at the outlet\")\n",
    "\n",
    "    imshow_grid(\n",
    "        model_grid,\n",
    "        \"surface_water__depth\",\n",
    "        cmap=\"Blues\",\n",
    "        vmin=0,\n",
    "        vmax=0.5,\n",
    "        var_name=\"surface water depth (m)\",\n",
    "    )\n",
    "    ax[1].set_title(\"\")\n",
    "    ax[1].invert_yaxis()\n",
    "    ax[1].set_xlabel(\"X (m)\")\n",
    "    ax[1].set_ylabel(\"Y (m)\")\n",
    "\n",
    "    plt.close(fig)\n",
    "    fig.savefig(os.path.join(results_dir, \"flow_{}.png\".format(time_slice)))\n",
    "\n",
    "print(\"Simulation is done\")"
   ]
  },
  {
   "cell_type": "markdown",
   "id": "7e20afbe",
   "metadata": {},
   "source": [
    "<a id='step4'></a>\n",
    "## Step 4 Visualize Results"
   ]
  },
  {
   "cell_type": "markdown",
   "id": "2142cf54",
   "metadata": {},
   "source": [
    "Run the cell below and it will create a short video (\"demo.mp4\") based on the simulation results. "
   ]
  },
  {
   "cell_type": "code",
   "execution_count": null,
   "id": "123aef54",
   "metadata": {
    "scrolled": true
   },
   "outputs": [],
   "source": [
    "# Make a short video\n",
    "img_files = [\n",
    "    os.path.join(results_dir, file)\n",
    "    for file in os.listdir(results_dir)\n",
    "    if \".png\" in file\n",
    "]\n",
    "img_files.sort(key=lambda x: os.path.getmtime(x))\n",
    "\n",
    "video_file = os.path.join(results_dir, \"demo.mp4\")\n",
    "\n",
    "with imageio.get_writer(\n",
    "    os.path.join(video_file), mode=\"I\", fps=1, macro_block_size=None\n",
    ") as writer:\n",
    "    for f in img_files:\n",
    "        im = imageio.imread(os.path.join(results_dir, f))\n",
    "        writer.append_data(im)\n",
    "\n",
    "writer.close()"
   ]
  },
  {
   "cell_type": "markdown",
   "id": "e04442e3",
   "metadata": {},
   "source": [
    "In this notebook, the model run time is set as 5 min. You can also reset it by changing the \"model_run_time\" variable with a larger value and run the cells in [Step 3](#step3) to see the whole process of the rainwater draining out of this watershed. The cell below shows a video of the simulation results with the model run time set as 20 min (model_run_time = 20 * 60). "
   ]
  },
  {
   "cell_type": "code",
   "execution_count": null,
   "id": "f9a67bfd",
   "metadata": {},
   "outputs": [],
   "source": [
    "# Display the video\n",
    "video_file = os.path.join(results_dir, \"overland_flow.mp4\")\n",
    "Video(video_file, embed=True, width=790, height=700)"
   ]
  },
  {
   "cell_type": "markdown",
   "id": "9dd64bbc",
   "metadata": {},
   "source": [
    "## References\n",
    "- Adams, J. M., Gasparini, N. M., Hobley, D. E. J., Tucker, G. E., Hutton, E. W. H., Nudurupati, S. S., and Istanbulluoglu, E.: The Landlab v1.0 OverlandFlow component: a Python tool for computing shallow-water flow across watersheds, Geosci. Model Dev., 10, 1645–1663, https://doi.org/10.5194/gmd-10-1645-2017, 2017.\n",
    "\n",
    "- de Almeida, G. A., Bates, P., Freer, J. E., & Souvignet, M. (2012). Improving the stability of a simple formulation of the shallow water equations for 2‐D flood modeling. Water Resources Research, 48(5).\n",
    "- Boulder Creek Critical Zone Observatory August 2010 LiDAR Survey. Distributed by OpenTopography. https://doi.org/10.5069/G93R0QR0 . Accessed: 2023-02-07"
   ]
  },
  {
   "cell_type": "code",
   "execution_count": null,
   "id": "6bc6ee78",
   "metadata": {},
   "outputs": [],
   "source": []
  }
 ],
 "metadata": {
  "kernelspec": {
   "display_name": "Python 3 (ipykernel)",
   "language": "python",
   "name": "python3"
  },
  "language_info": {
   "codemirror_mode": {
    "name": "ipython",
    "version": 3
   },
   "file_extension": ".py",
   "mimetype": "text/x-python",
   "name": "python",
   "nbconvert_exporter": "python",
   "pygments_lexer": "ipython3",
   "version": "3.9.16"
  }
 },
 "nbformat": 4,
 "nbformat_minor": 5
}
